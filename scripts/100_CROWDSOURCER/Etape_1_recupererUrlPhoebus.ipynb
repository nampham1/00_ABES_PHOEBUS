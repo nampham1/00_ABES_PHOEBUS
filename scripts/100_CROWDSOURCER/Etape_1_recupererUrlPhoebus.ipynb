{
 "cells": [
  {
   "cell_type": "code",
   "execution_count": null,
   "metadata": {},
   "outputs": [],
   "source": [
    "import pandas as pd\n",
    "import requests\n",
    "from requests.adapters import HTTPAdapter\n",
    "from requests.packages.urllib3.util.retry import Retry\n",
    "import urllib\n",
    "import webbrowser\n",
    "from bs4 import BeautifulSoup\n",
    "import csv\n",
    "from datetime import datetime\n",
    "import time\n",
    "from webbot import Browser\n",
    "import json"
   ]
  },
  {
   "cell_type": "markdown",
   "metadata": {},
   "source": [
    "## ETAPE 1 : SE CONNECTER A ATOM"
   ]
  },
  {
   "cell_type": "code",
   "execution_count": null,
   "metadata": {},
   "outputs": [],
   "source": [
    "def access_atom(driver):\n",
    "    \"\"\"\n",
    "    Accède à la plateforme Phoebus en utilisant un objet de navigateur.\n",
    "\n",
    "    Cette fonction effectue les étapes suivantes :\n",
    "    1. Navigue vers la page d'accueil de Atom Archives.\n",
    "    2. Clique sur le bouton \"Ouverture de session\".\n",
    "    3. Utilise les identifiants stockés dans le fichier 'credentials.json' pour se connecter.\n",
    "\n",
    "    Args:\n",
    "        driver: Objet de navigateur permettant d'automatiser les interactions avec la page web.\n",
    "    Note:\n",
    "        Assurez-vous d'avoir un fichier 'credentials.json' contenant les champs 'email' et 'password'\n",
    "        pour effectuer la connexion à Phoebus.\n",
    "    \"\"\"\n",
    "        \n",
    "    driver.go_to('https://atom-archives.unil.ch/index.php')\n",
    "    driver.click('Ouverture de session', tag='button')\n",
    "    \n",
    "    with open('credentials.json', 'r') as jsonFile:\n",
    "        credentials = json.load(jsonFile)\n",
    "        \n",
    "    driver.type(credentials['email'], id='email')\n",
    "    driver.type(credentials['password'], id='password')\n",
    "    driver.click('Ouverture de session')\n",
    "\n",
    "# LANCER LA FONCTION\n",
    "driver = Browser()\n",
    "access_atom(driver)"
   ]
  },
  {
   "cell_type": "markdown",
   "metadata": {},
   "source": [
    "## ETAPE 2 : ACQUISITION DES DONNEES"
   ]
  },
  {
   "cell_type": "code",
   "execution_count": null,
   "metadata": {},
   "outputs": [],
   "source": [
    "def extract_autoritePhoebus(csv_path):\n",
    "    \"\"\"\n",
    "    Extrait les noms à partir du fichier CSV contenant les noms et les données récupérées.\n",
    "    Ensuite, elle extrait\n",
    "    les autorités de la colonne 'autoritesPHOEBUS' du DataFrame.\n",
    "\n",
    "    Args:\n",
    "        csv_path (str): Chemin vers le fichier CSV contenant les données récupérées.\n",
    "\n",
    "    Returns:\n",
    "        autorities (list): Liste des données récupérées.\n",
    "    \"\"\"\n",
    "    df = pd.read_csv(csv_path, na_values=['NULL'], delimiter=',') #delimiter dépend de la configuration du separator du csv   \n",
    "    # Extraire les noms de la colonne \"autoritesPHOEBUS\"\n",
    "    autorities = df['authorizedFormOfName'].tolist()\n",
    "    \n",
    "    return autorities\n",
    "    \n",
    "# LANCEMENT DE LA FONCTION\n",
    "csv_path = '01_autorite.csv'\n",
    "autorities = extract_autoritePhoebus(csv_path)\n",
    "# Afficher les noms (à titre de vérification)\n",
    "print(autorities)"
   ]
  },
  {
   "cell_type": "markdown",
   "metadata": {},
   "source": [
    "## ETAPE 3 : CONSTRUCTION DE L'URL DE RECHERCHE"
   ]
  },
  {
   "cell_type": "code",
   "execution_count": null,
   "metadata": {},
   "outputs": [],
   "source": [
    "def search_autoritie (autorities_list) :\n",
    "    \"\"\"\n",
    "    Génère des URL de recherche pour chaque nom de la liste.\n",
    "\n",
    "    Cette fonction prend une liste de noms (autorités), extrait le nom de la première autorité\n",
    "    de chaque entrée, construit une URL de recherche pour cette autorité dans Phoebus, et\n",
    "    ajoute l'URL à une liste.\n",
    "    La recherche avancée : NOM Prénom dans le champ Forme de nom autorisé ; Dates d'existence : vide\n",
    "\n",
    "    Args:\n",
    "        autorities_list (list): Liste des autorités à rechercher.\n",
    "\n",
    "    Returns:\n",
    "        search_urls (list): Liste d'URLs de recherche générées pour chaque autorité.\n",
    "   \"\"\"\n",
    "    search_urls = []\n",
    "    \n",
    "    for autority_phoebus in autorities_list:\n",
    "        autority = str(autority_phoebus)\n",
    "        # Construire l'URL de recherche\n",
    "        url_autority = autority.replace(' ','+')\n",
    "        # recherche avancée dans Phoebus : noms dans forme de nom autorisée ;champ vide : rien\n",
    "        search_url = f'https://atom-archives.unil.ch/index.php/actor/browse?sq0=\"{url_autority}\"&sf0=authorizedFormOfName&repository=&hasDigitalObject=&entityType=&emptyField=&relatedType='\n",
    "\n",
    "        search_urls.append(search_url)\n",
    "        driver.go_to(search_url)\n",
    "    return search_urls\n",
    "\n",
    "# LANCEMENT DE LA FONCTION\n",
    "search_urls = search_autoritie(autorities)\n",
    "#print(search_urls)"
   ]
  },
  {
   "cell_type": "markdown",
   "metadata": {},
   "source": [
    "## ETAPE 4 : RECUPERER L'URL DE L'EDITION DE L'AUTORITE"
   ]
  },
  {
   "cell_type": "code",
   "execution_count": null,
   "metadata": {},
   "outputs": [],
   "source": [
    "def browse_autorites(search_urls):\n",
    "    \"\"\"\n",
    "    Parcourt les URL de recherche et récupère les liens vers les notices d'autorité correspondantes.\n",
    "\n",
    "    Cette fonction prend une liste d'URL de recherche, accède à chaque URL, et récupère les liens\n",
    "    vers les notices d'autorité correspondantes. Les liens sont ajoutés à une liste.\n",
    "\n",
    "    Args:\n",
    "        search_urls (list): Liste d'URLs de recherche générées pour chaque autorité.\n",
    "\n",
    "    Returns:\n",
    "        hrefs (list): Liste des liens vers les notices d'autorité.\n",
    "    \"\"\"\n",
    "    \n",
    "    hrefs_list = []\n",
    "    \n",
    "    for search_url in search_urls:\n",
    "        hrefs =[] # Liste des liens pour une URL de recherche spécifique\n",
    "        try:\n",
    "            # Récupérer le contenu HTML depuis l'URL\n",
    "            response = requests.get(search_url)\n",
    "            response.raise_for_status()  # Vérifier si la requête a réussi\n",
    "            html_content = response.text\n",
    "            soup = BeautifulSoup(html_content, 'html.parser')\n",
    "\n",
    "            # Trouver la balise <p> avec la classe \"title\"\n",
    "            title_paragraphs = soup.find_all('p', {'class': 'title'})\n",
    "            \n",
    "            for title_paragraph in title_paragraphs:\n",
    "                # Accéder à l'attribut 'href' de chaque balise <a> dans la balise <p>\n",
    "                link_tag = title_paragraph.find('a', href=True)\n",
    "\n",
    "                if link_tag and 'href' in link_tag.attrs:\n",
    "                    href = link_tag['href']\n",
    "                    hrefs.append(href)\n",
    "                else:\n",
    "                    print(f\"Etape 4 : Erreur pour {search_url} : Balise <a> ou attribut 'href' non trouvé.\")\n",
    "          \n",
    "            if not hrefs :\n",
    "                print(f\"AUCUN RESULTAT dans PHŒBUS pour {search_url}\\n\")\n",
    "                hrefs_list.append(\"NULL\")\n",
    "            else:\n",
    "                hrefs_list.append(hrefs)\n",
    "                \n",
    "        except requests.RequestException as e:\n",
    "            print(f\"Etape 4 : Erreur de requête {search_url} : {e}\")   \n",
    "            hrefs_list.append(\"ECHEC REQUETE\")\n",
    "         \n",
    "    return hrefs_list\n",
    "\n",
    "# LANCEMENT DE LA FONCTION\n",
    "hrefs_list = browse_autorites(search_urls)\n",
    "#print(hrefs_list)"
   ]
  },
  {
   "cell_type": "markdown",
   "metadata": {},
   "source": [
    "## ETAPE 5 : CREATION DU FICHIER CSV POUR LA GESTION DES RESULTATS MULTIPLES ET NULL"
   ]
  },
  {
   "cell_type": "code",
   "execution_count": null,
   "metadata": {},
   "outputs": [],
   "source": [
    "def write_to_csv(hrefs_list, autorities):\n",
    "    \"\"\"\n",
    "    Écrit les noms d'autorités avec le nbre de résultats trouvés ainsi que leurs résultats, dans un fichier CSV.\n",
    "\n",
    "    Args:\n",
    "        hrefs_list (list): Liste de listes des liens vers les notices d'autorité.\n",
    "        autorities (list): Liste des autorités.\n",
    "    \"\"\"\n",
    "    with open('02_autoritiesOnPhoebus.csv', 'w', newline='', encoding='utf-8') as csvfile:\n",
    "        csv_writer = csv.writer(csvfile)\n",
    "                \n",
    "        # Écrire l'en-tête du CSV\n",
    "        header = ['authorizedFormOfName', 'nbre de notices','notice 1', 'notice 2', 'notice 3', 'notice 4','notice 5']  # Ajoutez autant de colonnes de liens que nécessaire\n",
    "        csv_writer.writerow(header)\n",
    "\n",
    "        # Écrire les données\n",
    "        for i, hrefs in enumerate(hrefs_list):\n",
    "            autority_name=autorities[i]\n",
    "            if hrefs == \"NULL\": # Si AUCUN RESULTAT alors indiquer le nbre de notice '0' et résultat NULL\n",
    "                row = [autority_name, 0, f'https://atom-archives.unil.ch/index.php/botorite']\n",
    "            else :\n",
    "                nbr_notices = len(hrefs)  # Ajouter le nombre de notices dans la liste\n",
    "                prefixed_hrefs = [f'https://atom-archives.unil.ch{href}' for href in hrefs]             \n",
    "                row = [autority_name, nbr_notices, *prefixed_hrefs]\n",
    "            csv_writer.writerow(row)\n",
    "\n",
    "# LANCEMENT DE LA FONCTION\n",
    "write_to_csv(hrefs_list, autorities)\n"
   ]
  },
  {
   "cell_type": "markdown",
   "metadata": {},
   "source": [
    "## ETAPE 6 : CONTRÔLE HUMAIN \n",
    "\n",
    "1) contrôler les lignes indiquant 'O' (= pas de résultat trouvé), il ne devrait pas en avoir ! \n",
    "<br>\n",
    "2) en cas de résultats multiples, sélectionner le bon, copier/coller dans la colonne \"notice 1\""
   ]
  },
  {
   "cell_type": "markdown",
   "metadata": {},
   "source": []
  },
  {
   "cell_type": "code",
   "execution_count": null,
   "metadata": {},
   "outputs": [],
   "source": []
  },
  {
   "cell_type": "markdown",
   "metadata": {},
   "source": []
  },
  {
   "cell_type": "code",
   "execution_count": null,
   "metadata": {},
   "outputs": [],
   "source": []
  },
  {
   "cell_type": "markdown",
   "metadata": {},
   "source": []
  },
  {
   "cell_type": "code",
   "execution_count": null,
   "metadata": {},
   "outputs": [],
   "source": []
  },
  {
   "cell_type": "markdown",
   "metadata": {},
   "source": [
    "## LANCEMENT DES FONCTIONS"
   ]
  },
  {
   "cell_type": "code",
   "execution_count": null,
   "metadata": {},
   "outputs": [],
   "source": [
    "# ETAPE 1\n",
    "driver = Browser()\n",
    "access_atom(driver)\n",
    "\n",
    "# ETAPE 2\n",
    "csv_path = '01_autorite.csv'\n",
    "autorities = extract_autoritePhoebus(csv_path)\n",
    "\n",
    "# ETAPE 3\n",
    "search_urls = search_autoritie(autorities)\n",
    "\n",
    "# ETAPE 4\n",
    "hrefs_list = browse_autorites(search_urls)\n",
    "\n",
    "# ETAPE 5\n",
    "write_to_csv(hrefs_list, autorities)\n",
    "\n"
   ]
  },
  {
   "cell_type": "markdown",
   "metadata": {},
   "source": [
    "## ETAPE 6 : CONTRÔLE HUMAIN \n",
    "\n",
    "1) contrôler les lignes indiquant 'O' (= pas de résultat trouvé), il ne devrait pas en avoir ! \n",
    "<br>\n",
    "2) en cas de résultats multiples, sélectionner le bon, copier/coller dans la colonne \"notice 1\""
   ]
  },
  {
   "cell_type": "markdown",
   "metadata": {},
   "source": []
  },
  {
   "cell_type": "code",
   "execution_count": null,
   "metadata": {},
   "outputs": [],
   "source": []
  }
 ],
 "metadata": {
  "kernelspec": {
   "display_name": "Python 3",
   "language": "python",
   "name": "python3"
  },
  "language_info": {
   "codemirror_mode": {
    "name": "ipython",
    "version": 3
   },
   "file_extension": ".py",
   "mimetype": "text/x-python",
   "name": "python",
   "nbconvert_exporter": "python",
   "pygments_lexer": "ipython3",
   "version": "3.8.5"
  }
 },
 "nbformat": 4,
 "nbformat_minor": 4
}
