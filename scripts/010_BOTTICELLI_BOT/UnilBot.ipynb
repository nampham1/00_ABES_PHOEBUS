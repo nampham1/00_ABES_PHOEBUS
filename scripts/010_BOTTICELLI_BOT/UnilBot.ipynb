{
 "cells": [
  {
   "cell_type": "code",
   "execution_count": null,
   "metadata": {},
   "outputs": [
    {
     "name": "stdout",
     "output_type": "stream",
     "text": [
      "{'Charles-Ferdinand Ramuz': 'RAMUZ C.F.', 'Ramuz Charles-Ferdinand': 'RAMUZ C.F.', 'RAMUZ CF': 'RAMUZ C.F.', 'RAMUZ C.-F.': 'RAMUZ C.F.', 'RAMUZ C.F.': 'RAMUZ C.F.', 'Charles-Albert CINGRIA': 'CINGRIA Charles-Albert', 'CAC': 'CINGRIA Charles-Albert', 'LANDRY CF': 'LANDRY C.F.', 'LANDRY C.-F.': 'LANDRY C.F.', 'Charles-François Landry': 'LANDRY C.F.', 'C.-F. Landry': 'LANDRY C.F.', 'STRAWINSKY Igor': 'STRAVINSKY Igor', 'STRAWINSKI Igor': 'STRAVINSKY Igor', 'STRAVINSKY Igor': 'STRAVINSKY Igor', 'GONZAGUE Reynold de': 'GONZAGUE Reynold de', 'GONZAGUE Reynold': 'GONZAGUE Reynold de', 'DE GONZAGUE Reynold': 'GONZAGUE Reynold de'}\n"
     ]
    }
   ],
   "source": [
    "import botticelli\n",
    "import importlib\n",
    "#import botorites plus besoin de botorite à cette étape\n",
    "from webbot import Browser\n",
    "import pandas as pd\n",
    "from change_dict import changeDict # Importe le dictionnaire depuis le fichier change_dict.py\n",
    "print(changeDict)\n",
    "from flair.models import SequenceTagger\n",
    "from flair.data import Sentence\n",
    "import json\n",
    "from collections import Counter\n",
    "import time"
   ]
  },
  {
   "cell_type": "markdown",
   "metadata": {},
   "source": [
    "## ETAPE 1 : Acquisition des données"
   ]
  },
  {
   "cell_type": "code",
   "execution_count": 4,
   "metadata": {},
   "outputs": [
    {
     "name": "stdout",
     "output_type": "stream",
     "text": [
      "2024-05-22 14:38:09,039 loading file fr-ner-wikiner-0.4.pt\n"
     ]
    }
   ],
   "source": [
    "driver = Browser()\n",
    "importlib.reload(botticelli)\n",
    "botticelli.access_atom(driver)\n",
    "tagger = SequenceTagger.load('fr-ner-wikiner-0.4.pt')\n",
    "botticelli.browse_pages(driver, tagger, mode='Correspondance', includeList=['P062','P096','P022','P032'])\n"
   ]
  },
  {
   "cell_type": "markdown",
   "metadata": {},
   "source": [
    "## ETAPE 2 : Filtrage des noms"
   ]
  },
  {
   "cell_type": "code",
   "execution_count": 5,
   "metadata": {},
   "outputs": [],
   "source": [
    "importlib.reload(botticelli)\n",
    "entryDF = pd.read_csv('CLSR_Correspondance.csv')\n",
    "botticelli.name_cleaning(entryDF, changeDict)"
   ]
  },
  {
   "cell_type": "code",
   "execution_count": 6,
   "metadata": {},
   "outputs": [],
   "source": [
    "importlib.reload(botticelli)\n",
    "entryDF = pd.read_csv('CLSR_Correspondance.csv')\n",
    "botticelli.remove_duplicate_names(entryDF)"
   ]
  },
  {
   "cell_type": "markdown",
   "metadata": {},
   "source": [
    "## ETAPE 4 : Comparaison avec les notices d'autorité"
   ]
  },
  {
   "cell_type": "code",
   "execution_count": 2,
   "metadata": {},
   "outputs": [],
   "source": [
    "importlib.reload(botticelli)\n",
    "driver = Browser()\n",
    "autoriteList = botticelli.autorite_retrieval(driver)"
   ]
  },
  {
   "cell_type": "code",
   "execution_count": 4,
   "metadata": {},
   "outputs": [],
   "source": [
    "importlib.reload(botticelli)\n",
    "entryDF = pd.read_csv('CLSR_Correspondance.csv')#,sep=';'\n",
    "botticelli.autorite_comparison(entryDF, autoriteList)"
   ]
  },
  {
   "cell_type": "code",
   "execution_count": 5,
   "metadata": {},
   "outputs": [],
   "source": [
    "importlib.reload(botticelli)\n",
    "entryDF = pd.read_csv('CLSR_Correspondance.csv')\n",
    "botticelli.find_previous_appearance(entryDF)"
   ]
  },
  {
   "cell_type": "code",
   "execution_count": null,
   "metadata": {},
   "outputs": [],
   "source": [
    "## NOTE \n",
    "IL FAUDRAIT AJOUTER UNE ETAPE DE CONTRÔLE AVEC TOUTE LA BDD AVEC OPENREFINE\n",
    "1. EXTRAIRE TOUTE LES AUTORITES AVANT INDEXATION AUTOMATIQUE\n",
    "2. COLLER LA COLONNE DES AUTORITES DANS LA COLONNE NAMEACCESSPOINTS DE TOUTES LES AUTORITES\n",
    "3. APPLIQUER DES DISTANCES DE LEVENTHEIN ET AUTRES\n",
    "4. CORRIGER MANUELLEMENT DANS LE FICHIER CSV ET VOIR L'INTITULé DU PLAN DE CLASSEMENT\n",
    " IL EST POSSIBLE D'AUTOMATISER UNE PARTIE : PAR EXEMPLE LE TIRET : DUPONT MARCHECHAL - TROUVE EN EQUIVALENCE - DUPONT-MARCHECHAL"
   ]
  },
  {
   "cell_type": "markdown",
   "metadata": {},
   "source": [
    "## ETAPE 5 : Indexation automatique"
   ]
  },
  {
   "cell_type": "code",
   "execution_count": 6,
   "metadata": {},
   "outputs": [
    {
     "name": "stdout",
     "output_type": "stream",
     "text": [
      "Index:  0\n",
      "Index:  100\n",
      "Index:  200\n",
      "Index:  300\n",
      "Index:  400\n",
      "Index:  500\n",
      "Index:  600\n",
      "Index:  700\n",
      "Index:  800\n",
      "Index:  900\n",
      "Index:  1000\n",
      "Index:  1100\n",
      "Index:  1200\n",
      "Index:  1300\n",
      "Index:  1400\n",
      "Index:  1500\n",
      "Index:  1600\n",
      "Index:  1700\n",
      "Index:  1800\n"
     ]
    }
   ],
   "source": [
    "driver = Browser()\n",
    "entryDF = pd.read_csv('CLSR_Correspondance.csv')\n",
    "\n",
    "importlib.reload(botticelli)\n",
    "botticelli.access_atom(driver)\n",
    "botticelli.indexation_automatique(driver, entryDF)"
   ]
  },
  {
   "cell_type": "markdown",
   "metadata": {},
   "source": []
  },
  {
   "cell_type": "code",
   "execution_count": 10,
   "metadata": {},
   "outputs": [],
   "source": []
  },
  {
   "cell_type": "code",
   "execution_count": null,
   "metadata": {},
   "outputs": [],
   "source": []
  },
  {
   "cell_type": "code",
   "execution_count": null,
   "metadata": {},
   "outputs": [],
   "source": []
  }
 ],
 "metadata": {
  "kernelspec": {
   "display_name": "Python 3",
   "language": "python",
   "name": "python3"
  },
  "language_info": {
   "codemirror_mode": {
    "name": "ipython",
    "version": 3
   },
   "file_extension": ".py",
   "mimetype": "text/x-python",
   "name": "python",
   "nbconvert_exporter": "python",
   "pygments_lexer": "ipython3",
   "version": "3.8.5"
  }
 },
 "nbformat": 4,
 "nbformat_minor": 4
}
