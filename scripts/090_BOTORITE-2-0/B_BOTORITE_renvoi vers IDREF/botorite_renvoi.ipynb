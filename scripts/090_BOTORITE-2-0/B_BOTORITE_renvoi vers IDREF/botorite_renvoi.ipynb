{
 "cells": [
  {
   "cell_type": "code",
   "execution_count": 1,
   "metadata": {},
   "outputs": [],
   "source": [
    "from webbot import Browser\n",
    "from selenium import webdriver\n",
    "import time\n",
    "import json\n",
    "import pandas as pd\n",
    "import requests\n",
    "from bs4 import BeautifulSoup\n",
    "from unidecode import unidecode\n",
    "import csv\n",
    "from datetime import datetime"
   ]
  },
  {
   "cell_type": "markdown",
   "metadata": {},
   "source": [
    "## ETAPE 1 : SE CONNECTER A ATOM"
   ]
  },
  {
   "cell_type": "code",
   "execution_count": 2,
   "metadata": {},
   "outputs": [],
   "source": [
    "def access_atom(driver):\n",
    "    \"\"\"\n",
    "    Accède à la plateforme Phoebus en utilisant un objet de navigateur.\n",
    "\n",
    "    Cette fonction effectue les étapes suivantes :\n",
    "    1. Navigue vers la page d'accueil de Atom Archives.\n",
    "    2. Clique sur le bouton \"Ouverture de session\".\n",
    "    3. Utilise les identifiants stockés dans le fichier 'credentials.json' pour se connecter.\n",
    "\n",
    "    Args:\n",
    "        driver: Objet de navigateur permettant d'automatiser les interactions avec la page web.\n",
    "    Note:\n",
    "        Assurez-vous d'avoir un fichier 'credentials.json' contenant les champs 'email' et 'password'\n",
    "        pour effectuer la connexion à Phoebus.\n",
    "    \"\"\"\n",
    "        \n",
    "    driver.go_to('https://atom-archives.unil.ch/') ##METTRE LA BONNE ADRESSE URL ∆ PAS LE MODE STAGE\n",
    "    driver.click('Ouverture de session', tag='button')\n",
    "    \n",
    "    with open('credentials.json', 'r') as jsonFile:\n",
    "        credentials = json.load(jsonFile)\n",
    "        \n",
    "    driver.type(credentials['email'], id='email')\n",
    "    driver.type(credentials['password'], id='password')\n",
    "    driver.click('Ouverture de session')\n",
    "\n",
    "# LANCER LA FONCTION\n",
    "driver = Browser() #Browser pour ouvrir un navigateur\n",
    "access_atom(driver)"
   ]
  },
  {
   "cell_type": "markdown",
   "metadata": {},
   "source": [
    "## ETAPE 2 : ACQUISITION DES DONNEES"
   ]
  },
  {
   "cell_type": "code",
   "execution_count": 3,
   "metadata": {},
   "outputs": [
    {
     "name": "stdout",
     "output_type": "stream",
     "text": [
      "[['https://atom-archives.unil.ch/index.php/rossier-edmond', 'ROSSIER Edmond', '1865-1945', nan, 'Historien et journaliste.', nan, 'http://www.idref.fr/073313653/id.', nan, 'idref_073313653'], ['https://atom-archives.unil.ch/index.php/trolliet-gilbert', 'TROLLIET Gilbert', '1907-1980', 'poète', nan, nan, 'http://www.idref.fr/027169952/id.', nan, 'idref_027169952'], ['https://atom-archives.unil.ch/index.php/clerc-jean-louis', 'CLERC Jean-Louis', '1908-1961', 'artiste et écrivain', nan, nan, 'http://www.idref.fr/080797741/id.', nan, 'idref_080797741'], ['https://atom-archives.unil.ch/index.php/cornut-samuel', 'CORNUT  Samuel', '1861-1918', nan, nan, nan, 'http://www.idref.fr/198600275/id.', nan, 'idref_198600275'], ['https://atom-archives.unil.ch/index.php/cuneo-anne', 'CUNEO Anne', '1936-2015', nan, 'Auteure dramatique, essayiste, metteure en scène de théâtre, cinéaste. ', nan, 'http://www.idref.fr/026807114/id.', nan, 'idref_026807114'], ['https://atom-archives.unil.ch/index.php/delacoste-suzanne', 'DELACOSTE Suzanne', '1913-1963', nan, \"Journaliste elle est également écrivaine. - elle rédige des romans et des nouvelles sur la destinée des femmes. - ses archives, dont un manuscrit d'un roman encore inédit, sont déposés au Centre de recherches sur les lettres romandes à l'Université de Lausanne. \", nan, 'http://www.idref.fr/243958412/id.', nan, 'idref_243958412'], ['https://atom-archives.unil.ch/index.php/grosjean-raoul', 'GROSJEAN Raoul', '....-....', nan, nan, nan, 'http://www.idref.fr/274712717/id.', nan, 'idref_274712717'], ['https://atom-archives.unil.ch/index.php/gregoire-helene', 'GRÉGOIRE Hélène', '1903-....', nan, 'Née en France. Vit en Suisse depuis 1960. Romancière.', nan, 'http://www.idref.fr/035103671/id.', nan, 'idref_035103671'], ['https://atom-archives.unil.ch/index.php/hersperger-charles', 'HERSPERGER Charles', '1950-....', nan, \"Spécialiste dans les domaines de l'esthétique, de l'idéologie et de la communication.\", nan, 'http://www.idref.fr/251593215/id.', nan, 'idref_251593215'], ['https://atom-archives.unil.ch/index.php/erni-barbara', 'ERNI Barbara', '....-....', nan, 'Traductrice allemand vers français. Metteuse en scène, artiste en peinture et photographie. ', nan, 'http://www.idref.fr/13325206X/id.', nan, 'idref_13325206X'], ['https://atom-archives.unil.ch/index.php/peiry-alexis', 'PEIRY Alexis', '19..-1968', nan, nan, nan, 'http://www.idref.fr/030648270/id.', nan, 'idref_030648270'], ['https://atom-archives.unil.ch/index.php/poitry-guy', 'POITRY Guy', '1956-....', nan, \"Enseigne la littérature française à l'Université de Genève (en 1995).\", nan, 'http://www.idref.fr/034238190/id.', nan, 'idref_034238190'], ['https://atom-archives.unil.ch/index.php/roche-sylviane', 'ROCHE Sylviane', '1949-....', nan, \"Écrivain, traductrice de l'espagnol. Enseigne la littérature française, l'histoire et l'espagnol au Gymnase de Nyon, Suisse (en 1997).\", nan, 'http://www.idref.fr/035691514/id.', nan, 'idref_035691514'], ['https://atom-archives.unil.ch/index.php/saint-helier-monique', 'SAINT-HÉLIER Monique', '1895-1955', nan, 'Née dans une famille de confession protestante, elle a choisi le prénom de Monique lors de sa conversion au catholicisme en 1918 ; Femme de lettres. ', nan, 'http://www.idref.fr/028586417/id.', 'HÉLIER Monique Saint- ; BRIOD Monique ; EIMANN Berthe.', 'idref_028586417'], ['https://atom-archives.unil.ch/index.php/salem-gemma', 'SALEM Gemma', '1943-2020', nan, nan, nan, 'http://www.idref.fr/027119769/id.', 'DUBUGNON Gemma.', 'idref_027119769'], ['https://atom-archives.unil.ch/index.php/grivel-benjamin', 'GRIVEL Benjamin', '....-....', nan, nan, nan, 'http://www.idref.fr/191453420/id.', nan, 'idref_191453420'], ['https://atom-archives.unil.ch/index.php/seylaz-jean-luc', 'SEYLAZ Jean-Luc', '....-....', nan, \"Enseigne à la faculté des lettres de l'Université de Lausanne. \", nan, 'http://www.idref.fr/028761154/id.', nan, 'idref_028761154'], ['https://atom-archives.unil.ch/index.php/fontaine-anne', 'FONTAINE Anne', '19..-....', 'poétesse', nan, nan, 'http://www.idref.fr/028925262/id.', 'PFUND Édith.', 'idref_028925262'], ['https://atom-archives.unil.ch/index.php/thurler-anne-lise', 'THURLER Anne-Lise', '....-....', 'écrivain', 'Ecrivain.', nan, 'http://www.idref.fr/066897637/id.', nan, 'idref_066897637'], ['https://atom-archives.unil.ch/index.php/peiry-alexis', 'PEIRY Alexis', '19..-1968', nan, nan, nan, 'http://www.idref.fr/030648270/id.', nan, 'idref_030648270'], ['https://atom-archives.unil.ch/index.php/aubert-claude', 'AUBERT Claude', '1915-1972', nan, 'Auteur. ', nan, 'http://www.idref.fr/13538236X/id.', nan, 'idref_13538236X'], ['https://atom-archives.unil.ch/index.php/pitt-sylvain', 'PITT Sylvain', '1860-1919', nan, nan, nan, 'http://www.idref.fr/050565214/id.', nan, 'idref_050565214'], ['https://atom-archives.unil.ch/index.php/cosandey-roland', 'COSANDEY Roland', '1951-....', nan, \"Historien du cinéma. En poste à l'Université de Lausanne, Fonds national suisse de la recherche scientifique (en 1995).\", nan, 'http://www.idref.fr/028276876/id.', nan, 'idref_028276876'], ['https://atom-archives.unil.ch/index.php/sillig-olivier', 'SILLIG Olivier', '1951-....', nan, 'Ecrivain, peintre et scénariste.', nan, 'http://www.idref.fr/033969507/id.', nan, 'idref_033969507'], ['https://atom-archives.unil.ch/index.php/froidevaux-michel', 'FROIDEVAUX Michel', '1951-2020', nan, 'Éditeur et galeriste né à Lausanne, Suisse. - Rédacteur du mensuel pacifiste et antimilitariste \"Le Rebrousse-Poil, paru a Lausanne de 1978 à 1985. En parallèle, s\\'est engagé dans une thèse de sciences politiques \"Les avatars de l\\'anarchisme. La révolution et la guerre civile en Catalogne, 1936-1939, vues au travers de la presse libertaire\" soutenue à l\\'Université de Lausanne en 1985. - Docteur en sciences politiques de l\\'Université de Lausanne. - A créé la galerie HumuS et la fondation FINALE à Lausanne. - Président de l\\'Association des amis de Henri Roorda (en 2009). - Commissaire de nombreuses expositions de par le monde. ', nan, 'http://www.idref.fr/150005695/id.', nan, 'idref_150005695'], ['https://atom-archives.unil.ch/index.php/clement-francois', 'CLÉMENT François', '1929-....', 'médecin hématologue', \"Médecin hématologue, privat-docent d'hématologie à l'Université de Lausanne. Auteur de publications médicales et de publication littéraire. \", nan, 'http://www.idref.fr/034908358/id.', nan, 'idref_034908358'], ['https://atom-archives.unil.ch/index.php/grin-micha', 'GRIN Micha', '....-....', nan, nan, nan, 'http://www.idref.fr/028271335/id.', nan, 'idref_028271335'], ['https://atom-archives.unil.ch/index.php/gagnebin-marianne', 'GAGNEBIN-MAURER Marianne', '....-....', nan, nan, nan, 'http://www.idref.fr/103278648/id.', nan, 'idref_103278648'], ['https://atom-archives.unil.ch/index.php/burnat-provins-marguerite', 'BURNAT-PROVINS Marguerite', '1872-1952', nan, 'Peintre et écrivaine née à Arras. ', nan, 'http://www.idref.fr/034274561/id.', 'KALBERMATTEN Marguerite de ; PROVINS Marguerite-Burnat.', 'idref_034274561'], ['https://atom-archives.unil.ch/index.php/lanova-asa', 'LANOVA Asa', '19..-....', nan, 'Danseuse puis romancière.', nan, 'http://www.idref.fr/026964961/id.', nan, 'idref_026964961'], ['https://atom-archives.unil.ch/index.php/ansorge-gisele', 'ANSORGE Gisèle', '1923-1993', nan, \"Femme de lettres, auteur de romans, de pièces de théâtre , de nouvelles et de contes. A également produit, avec son mari Nag Ansorge, des films d'animation.\", nan, 'http://www.idref.fr/028999363/id.', nan, 'idref_028999363'], ['https://atom-archives.unil.ch/index.php/bolli-voelin-michele', 'BOLLI Michèle', '19..-....', nan, nan, nan, 'http://www.idref.fr/227838041/id.', 'BOLLI-VOÉLIN Michèle.', 'idref_227838041'], ['https://atom-archives.unil.ch/index.php/kraft-marylene', 'KRAFT Marylène', '....-....', nan, 'Écrivain.', nan, 'http://www.idref.fr/251283461/id.', nan, 'idref_251283461'], ['https://atom-archives.unil.ch/index.php/diez-alonso', 'DIEZ Alonso', '....-....', nan, nan, nan, 'http://www.idref.fr/227255933/id.', nan, 'idref_227255933']]\n"
     ]
    }
   ],
   "source": [
    "def extract_autorite(csv_path):\n",
    "    \"\"\"\n",
    "    Extrait les noms à partir du fichier CSV contenant les noms et les données récupérées.\n",
    "\n",
    "    Cette fonction charge un fichier CSV, remplace les valeurs NaN par une chaîne vide,\n",
    "    et remplace les NaN dans la colonne 'DateExistence' par \"n.c.\". Ensuite, elle extrait\n",
    "    les autorités de la colonne 'autoritesPHOEBUS' du DataFrame.\n",
    "\n",
    "    Args:\n",
    "        csv_path (str): Chemin vers le fichier CSV contenant les données récupérées.\n",
    "\n",
    "    Returns:\n",
    "        autorities (list): Liste des données récupérées.\n",
    "    \"\"\"\n",
    "    \n",
    "    # Charger le fichier CSV\n",
    "    csv_path = '01_noticesACompleter.csv'\n",
    "    df = pd.read_csv(csv_path, na_values=['NULL'], delimiter=',') #delimiter dépend de la configuration du separator du csv\n",
    "    \n",
    "    # Extraire les noms de la colonne \"url_Phoebus\"\n",
    "    autorities = df.values.tolist()\n",
    "\n",
    "    return autorities\n",
    "    \n",
    "# LANCEMENT DE LA FONCTION\n",
    "csv_path = '01_noticesACompleter.csv'\n",
    "autorities = extract_autorite(csv_path)\n",
    "# Afficher les noms (à titre de vérification)\n",
    "print(autorities)"
   ]
  },
  {
   "cell_type": "markdown",
   "metadata": {},
   "source": [
    "## ETAPE 3 : ENTRER DANS LA NOTICE EN MODE EDITION"
   ]
  },
  {
   "cell_type": "code",
   "execution_count": 4,
   "metadata": {},
   "outputs": [
    {
     "name": "stdout",
     "output_type": "stream",
     "text": [
      "['https://atom-archives.unil.ch/index.php/rossier-edmond/edit#identityArea', 'https://atom-archives.unil.ch/index.php/trolliet-gilbert/edit#identityArea', 'https://atom-archives.unil.ch/index.php/clerc-jean-louis/edit#identityArea', 'https://atom-archives.unil.ch/index.php/cornut-samuel/edit#identityArea', 'https://atom-archives.unil.ch/index.php/cuneo-anne/edit#identityArea', 'https://atom-archives.unil.ch/index.php/delacoste-suzanne/edit#identityArea', 'https://atom-archives.unil.ch/index.php/grosjean-raoul/edit#identityArea', 'https://atom-archives.unil.ch/index.php/gregoire-helene/edit#identityArea', 'https://atom-archives.unil.ch/index.php/hersperger-charles/edit#identityArea', 'https://atom-archives.unil.ch/index.php/erni-barbara/edit#identityArea', 'https://atom-archives.unil.ch/index.php/peiry-alexis/edit#identityArea', 'https://atom-archives.unil.ch/index.php/poitry-guy/edit#identityArea', 'https://atom-archives.unil.ch/index.php/roche-sylviane/edit#identityArea', 'https://atom-archives.unil.ch/index.php/saint-helier-monique/edit#identityArea', 'https://atom-archives.unil.ch/index.php/salem-gemma/edit#identityArea', 'https://atom-archives.unil.ch/index.php/grivel-benjamin/edit#identityArea', 'https://atom-archives.unil.ch/index.php/seylaz-jean-luc/edit#identityArea', 'https://atom-archives.unil.ch/index.php/fontaine-anne/edit#identityArea', 'https://atom-archives.unil.ch/index.php/thurler-anne-lise/edit#identityArea', 'https://atom-archives.unil.ch/index.php/peiry-alexis/edit#identityArea', 'https://atom-archives.unil.ch/index.php/aubert-claude/edit#identityArea', 'https://atom-archives.unil.ch/index.php/pitt-sylvain/edit#identityArea', 'https://atom-archives.unil.ch/index.php/cosandey-roland/edit#identityArea', 'https://atom-archives.unil.ch/index.php/sillig-olivier/edit#identityArea', 'https://atom-archives.unil.ch/index.php/froidevaux-michel/edit#identityArea', 'https://atom-archives.unil.ch/index.php/clement-francois/edit#identityArea', 'https://atom-archives.unil.ch/index.php/grin-micha/edit#identityArea', 'https://atom-archives.unil.ch/index.php/gagnebin-marianne/edit#identityArea', 'https://atom-archives.unil.ch/index.php/burnat-provins-marguerite/edit#identityArea', 'https://atom-archives.unil.ch/index.php/lanova-asa/edit#identityArea', 'https://atom-archives.unil.ch/index.php/ansorge-gisele/edit#identityArea', 'https://atom-archives.unil.ch/index.php/bolli-voelin-michele/edit#identityArea', 'https://atom-archives.unil.ch/index.php/kraft-marylene/edit#identityArea', 'https://atom-archives.unil.ch/index.php/diez-alonso/edit#identityArea']\n"
     ]
    }
   ],
   "source": [
    "def open_autorites(csv_path):\n",
    "    \"\"\"\n",
    "    Charge un fichier CSV, ajoute le suffixe \"/edit#identityArea\" à toutes les valeurs de la colonne \"notice 1\",\n",
    "    puis extrait les noms modifiés de la colonne \"notice 1\".\n",
    "\n",
    "    Args:\n",
    "        csv_path (str): Chemin du fichier CSV.\n",
    "    Returns:\n",
    "        list: Liste des URLs renvoyant à l'édition des notices d'autorité, ouverte sur la Zone d'identification.\n",
    "    \"\"\"\n",
    "\n",
    "    # Charger le fichier CSV\n",
    "    df = pd.read_csv(csv_path, delimiter=',') #delimiter dépend de la configuration du separator du csv\n",
    "\n",
    "    # Extraire les noms de la colonne \"autoritesPHOEBUS\" et ajouter le suffixe \"/edit#identityArea\" à toutes les valeurs de la colonne \"notice 1\" \n",
    "    df['url_phoebus'] = df['url_phoebus'].astype(str) + '/edit#identityArea'\n",
    "\n",
    "    # Extraire les noms de la colonne \"notice 1\" modifiée\n",
    "    autorites_url = df['url_phoebus'].tolist()\n",
    "    \n",
    "    return autorites_url\n",
    "\n",
    "# LANCEMENT DE LA FONCTION\n",
    "csv_path = '01_noticesACompleter.csv'\n",
    "autorites_url = open_autorites(csv_path)\n",
    "print(autorites_url)"
   ]
  },
  {
   "cell_type": "markdown",
   "metadata": {},
   "source": [
    "## ETAPE 4 : OUVRIR LES ZONES ET SAISIR LES INFORMATIONS"
   ]
  },
  {
   "cell_type": "code",
   "execution_count": 5,
   "metadata": {},
   "outputs": [
    {
     "name": "stdout",
     "output_type": "stream",
     "text": [
      "Notice Phœbus. Dernière mise à jour : 2024-06-27 à 09:47:18\n",
      "(1) Opération de saisie terminée pour ROSSIER Edmond : https://atom-archives.unil.ch/index.php/rossier-edmond\n",
      "Etape 9 : Erreur lors de la modification des notices d'autorité : Message: no such window: target window already closed\n",
      "from unknown error: web view not found\n",
      "  (Session info: chrome=126.0.6478.127)\n",
      "  (Driver info: chromedriver=2.39.562713 (dd642283e958a93ebf6891600db055f1f1b4f3b2),platform=Mac OS X 10.16.0 x86_64)\n",
      "\n"
     ]
    }
   ],
   "source": [
    "def modify_autorites (driver, idRef_links, autorites_url):\n",
    "    \"\"\"\n",
    "    Saisit dans les bons champs les informations récupérées dans IdRef.\n",
    "\n",
    "    Cette fonction prend un objet 'driver' pour la navigation web automatisée, une liste d'autorités\n",
    "    récupérées depuis IdRef, et une liste d'URLs pour les notices d'autorité. Elle ouvre chaque notice d'autorité\n",
    "    avec le navigateur automatisé, ouvre toutes les Zones, saisit les informations appropriées dans les champs correspondants,\n",
    "    et sauvegarde les modifications.\n",
    "\n",
    "    Args:\n",
    "        driver: Objet pour la navigation web automatisée.\n",
    "        autorities (list): Liste d'autorités récupérées depuis IdRef.\n",
    "        autorites_url (list): Liste d'URLs pour les notices d'autorité.\n",
    "\n",
    "    Returns:\n",
    "        None\n",
    "    Notes :\n",
    "        La fonction inclut les modifications automatiques effectuées par Botorité.\n",
    "    \"\"\"\n",
    "\n",
    "    \n",
    "    try:\n",
    "        \n",
    "        for i, autorite_url in enumerate(autorites_url) :\n",
    "            \n",
    "            driver.go_to(autorite_url)\n",
    "\n",
    "            # Ouvrir toutes les Zones\n",
    "            driver.click('Zone du contrôle')   \n",
    "            driver.execute_script(\"window.scrollTo(0,0);\")\n",
    "            time.sleep(2)\n",
    "            driver.click('Zone de description')\n",
    "            # Récupérer le contenu HTML depuis la page\n",
    "            content = driver.get_page_source()\n",
    "            soup = BeautifulSoup(content, features='lxml')\n",
    "            time.sleep(2)\n",
    "            \n",
    "            ## ZONE IDENTIFICATION\n",
    "            # Modification du type d'entité\n",
    "            driver.click(tag='select', id='entityType')\n",
    "            driver.click('Personne', tag='option')\n",
    "\n",
    "            \n",
    "            ## ZONE DE CONTROLE\n",
    "            # saisie de l'identifiant de notice d'autorité                      \n",
    "            if driver.exists(id='descriptionIdentifier'):\n",
    "                driver.type(autorities[i][8], id='descriptionIdentifier')\n",
    "            else:\n",
    "                print(f\"ERREUR pour {autorities[i][1]} : Identifiant de la description n'a pas été trouvée et saisie\")\n",
    "            \n",
    "            \n",
    "            # Modification de l'entretien du dépôt\n",
    "            if driver.exists(id='maintainingRepository'):\n",
    "                driver.type('Centre des littératures en Suisse romande', id='maintainingRepository')\n",
    "                time.sleep(4)\n",
    "                driver.press(driver.Key.ENTER)\n",
    "            else:\n",
    "                print(f\"ERREUR pour {autorities[i][1]} : Entretien du dépôt de la description n'a pas été trouvé et saisi\")\n",
    "                   \n",
    "            # Modification du statut\n",
    "            driver.click(tag='select', id='descriptionStatus')\n",
    "            driver.click('Final', tag='option')\n",
    "            \n",
    "            # saisie de l'historique de révision et de la référence\n",
    "                # Obtenez la date et l'heure actuelles au format YYYY-MM-DD HH:MM:SS et formater le texte du champ Révision\n",
    "            today_date = datetime.today().strftime('%Y-%m-%d à %H:%M:%S')\n",
    "            revision_history_text = \"Notice Phœbus. Dernière mise à jour : \" + today_date\n",
    "            \n",
    "            if driver.exists(id='revisionHistory'):\n",
    "                driver.type(revision_history_text, id='revisionHistory')\n",
    "                print(revision_history_text)\n",
    "            else:\n",
    "                print(f\"ERREUR pour {autorities[i][1]} : Dates de production et de révision n'ont pas été trouvées et saisies\")\n",
    "            \n",
    "            if driver.exists(id='sources'):\n",
    "                driver.type(f\"Voir également l'Agence bibliographique de l'Enseignement supérieur (ABES) : {autorities[i][6]}\", id='sources')\n",
    "            else:\n",
    "                print(f\"ERREUR pour {autorities[i][1]} : Sources n'ont pas été trouvées et saisies\")\n",
    "                \n",
    "            # scroller vers le bas puis, sauvegarder la saisie\n",
    "            driver.execute_script(\"window.scrollTo(0,document.body.scrollHeight)\")\n",
    "            time.sleep(2)\n",
    "\n",
    "            driver.click('Sauvegarder', tag='input')\n",
    "            \n",
    "            print(f\"({i+1}) Opération de saisie terminée pour {autorities[i][1]} : {autorities[i][0]}\")\n",
    "        \n",
    "    except Exception as e:\n",
    "        print(f\"Etape 9 : Erreur lors de la modification des notices d'autorité : {e}\")\n",
    "        \n",
    "# LANCEMENT DE LA FONCTION\n",
    "modify_autorites(driver, autorities, autorites_url)"
   ]
  },
  {
   "cell_type": "markdown",
   "metadata": {},
   "source": [
    "## LANCEMENT DES FONCTIONS"
   ]
  },
  {
   "cell_type": "code",
   "execution_count": null,
   "metadata": {},
   "outputs": [],
   "source": [
    "# ETAPE 1\n",
    "driver = Browser()\n",
    "access_atom(driver)\n",
    "\n",
    "# ETAPE 2\n",
    "csv_path = '01_autorite_Id.csv'\n",
    "autorities = extract_autorite(csv_path)\n",
    "#print(autorities)\n",
    "\n",
    "# ETAPE 3\n",
    "csv_path = '01_autorite_Id.csv'\n",
    "autorites_url = open_autorites(csv_path)\n",
    "\n",
    "# ETAPE 4\n",
    "modify_autorites(driver, idRef_links, autorites_url)"
   ]
  },
  {
   "cell_type": "code",
   "execution_count": null,
   "metadata": {},
   "outputs": [],
   "source": []
  },
  {
   "cell_type": "code",
   "execution_count": null,
   "metadata": {},
   "outputs": [],
   "source": []
  },
  {
   "cell_type": "code",
   "execution_count": null,
   "metadata": {},
   "outputs": [],
   "source": []
  }
 ],
 "metadata": {
  "kernelspec": {
   "display_name": "Python 3",
   "language": "python",
   "name": "python3"
  },
  "language_info": {
   "codemirror_mode": {
    "name": "ipython",
    "version": 3
   },
   "file_extension": ".py",
   "mimetype": "text/x-python",
   "name": "python",
   "nbconvert_exporter": "python",
   "pygments_lexer": "ipython3",
   "version": "3.8.5"
  }
 },
 "nbformat": 4,
 "nbformat_minor": 4
}
