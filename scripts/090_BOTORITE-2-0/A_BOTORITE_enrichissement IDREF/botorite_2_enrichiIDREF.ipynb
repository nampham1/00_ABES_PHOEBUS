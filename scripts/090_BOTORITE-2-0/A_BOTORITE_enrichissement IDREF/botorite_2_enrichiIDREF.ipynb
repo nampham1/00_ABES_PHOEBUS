{
 "cells": [
  {
   "cell_type": "code",
   "execution_count": 1,
   "metadata": {},
   "outputs": [],
   "source": [
    "from webbot import Browser\n",
    "from selenium import webdriver\n",
    "import time\n",
    "import json\n",
    "import pandas as pd\n",
    "import requests\n",
    "from bs4 import BeautifulSoup\n",
    "from unidecode import unidecode\n",
    "import csv\n",
    "from datetime import datetime"
   ]
  },
  {
   "cell_type": "markdown",
   "metadata": {},
   "source": [
    "## ETAPE 1 : SE CONNECTER A ATOM"
   ]
  },
  {
   "cell_type": "code",
   "execution_count": 2,
   "metadata": {},
   "outputs": [],
   "source": [
    "def access_atom(driver):\n",
    "    \"\"\"\n",
    "    Accède à la plateforme Phoebus en utilisant un objet de navigateur.\n",
    "\n",
    "    Cette fonction effectue les étapes suivantes :\n",
    "    1. Navigue vers la page d'accueil de Atom Archives.\n",
    "    2. Clique sur le bouton \"Ouverture de session\".\n",
    "    3. Utilise les identifiants stockés dans le fichier 'credentials.json' pour se connecter.\n",
    "\n",
    "    Args:\n",
    "        driver: Objet de navigateur permettant d'automatiser les interactions avec la page web.\n",
    "    Note:\n",
    "        Assurez-vous d'avoir un fichier 'credentials.json' contenant les champs 'email' et 'password'\n",
    "        pour effectuer la connexion à Phoebus.\n",
    "    \"\"\"\n",
    "        \n",
    "    driver.go_to('https://atom-archives.unil.ch/index.php')\n",
    "    driver.click('Ouverture de session', tag='button')\n",
    "    \n",
    "    with open('credentials.json', 'r') as jsonFile:\n",
    "        credentials = json.load(jsonFile)\n",
    "        \n",
    "    driver.type(credentials['email'], id='email')\n",
    "    driver.type(credentials['password'], id='password')\n",
    "    driver.click('Ouverture de session')\n",
    "\n",
    "# LANCEMENT DE LA FONCTION\n",
    "driver = Browser() #Browser pour ouvrir un navigateur\n",
    "access_atom(driver)"
   ]
  },
  {
   "cell_type": "markdown",
   "metadata": {},
   "source": [
    "## ETAPE 2 : ACQUISITION DES DONNEES"
   ]
  },
  {
   "cell_type": "code",
   "execution_count": 3,
   "metadata": {},
   "outputs": [
    {
     "name": "stdout",
     "output_type": "stream",
     "text": [
      "[['https://atom-archives.unil.ch/index.php/besson-benno', 'BESSON Benno', '1922-2006', '', \"Traduit de l'anglais et de l'allemand en français. Metteur en scène et acteur. - Assistant de Bertolt Brecht de 1948 à 1956. - Directeur artistique de la Volksbühne (à partir de 1969) et de la Comédie de Genève de 1982 à 1989\", 'Notice ABES. Date de création : 1981-02-09 - Date de modification : 2024-04-27 à 07:35:12.', \"Agence bibliographique de l'Enseignement supérieur (ABES) - Données originales récupérées sur https://www.idref.fr/026726025/id.\", '', 'besson-benno_idref-026726025'], ['https://atom-archives.unil.ch/index.php/manchette-melissa', 'MANCHETTE Melissa', 's.d.', '', \"D'origine grecque, traductrice de l'anglais en français. Épouse de Jean-Patrick Manchette (1962-1995)\", 'Notice ABES. Date de création : 1975-11-17 - Date de modification : 2021-10-05 à 10:05:24.', \"Agence bibliographique de l'Enseignement supérieur (ABES) - Données originales récupérées sur https://wwww.idref.fr/027005356/id.\", 'PETCANAS Georgette', 'manchette-melissa_idref-027005356'], ['https://atom-archives.unil.ch/index.php/mandel-ernest', 'MANDEL Ernest', '1922-1995', '', 'Homme politique et économiste belge. Un des principaux théoriciens du trotskisme ; dirigeant du secrétariat unifié de la IVe Internationale. A écrit sous le pseud. d\\'Ernest Germain dans France-Observateur. A été directeur du Centre d\\'études politiques de l\\'Université libre de Bruxelles. A été rédacteur en chef de \"La Gauche\" (Ligue révolutionnaire des travailleurs)', 'Notice ABES. Date de création : 1975-11-17 - Date de modification : 2021-10-05 à 10:05:24.', \"Agence bibliographique de l'Enseignement supérieur (ABES) - Données originales récupérées sur https://www.idref.fr/31288448/id.\", 'GOUSSET Pierre', 'gousset-pierre_idref-31288448']]\n"
     ]
    }
   ],
   "source": [
    "def extract_autorite(csv_path):\n",
    "    \"\"\"\n",
    "    Extrait les noms à partir du fichier CSV contenant les noms et les données récupérées.\n",
    "\n",
    "    Cette fonction charge un fichier CSV, remplace les valeurs NaN par une chaîne vide,\n",
    "    et remplace les NaN dans la colonne 'DateExistence' par \"n.c.\". Ensuite, elle extrait\n",
    "    les autorités de la colonne 'autoritesPHOEBUS' du DataFrame.\n",
    "\n",
    "    Args:\n",
    "        csv_path (str): Chemin vers le fichier CSV contenant les données récupérées.\n",
    "\n",
    "    Returns:\n",
    "        autorities (list): Liste des données récupérées.\n",
    "    \"\"\"\n",
    "    \n",
    "    # Charger le fichier CSV\n",
    "    csv_path = '01_noticesACompleter.csv'\n",
    "    df = pd.read_csv(csv_path, na_values=['NULL'], delimiter=',') #delimiter dépend de la configuration du separator du csv\n",
    "    \n",
    "    # Remplacer les NaN par une chaîne vide\n",
    "    df = df.fillna('')\n",
    "    \n",
    "    # Remplacer les NULL en vide pour la colonne Historique\n",
    "    df[\"Historique\"] = df[\"Historique\"].replace('NULL ; ', '')\n",
    "\n",
    "    # Extraire les noms de la colonne \"autoritesPHOEBUS\"\n",
    "    autorities = df.values.tolist()\n",
    "\n",
    "    return autorities\n",
    "    \n",
    "# LANCEMENT DE LA FONCTION\n",
    "csv_path = '01_noticesACompleter.csv'\n",
    "autorities = extract_autorite(csv_path)\n",
    "# Afficher les noms (à titre de vérification)\n",
    "print(autorities)"
   ]
  },
  {
   "cell_type": "markdown",
   "metadata": {},
   "source": [
    "## ETAPE 3 : ENTRER DANS LA NOTICE EN MODE EDITION"
   ]
  },
  {
   "cell_type": "code",
   "execution_count": 4,
   "metadata": {},
   "outputs": [],
   "source": [
    "def open_autorites(csv_path):\n",
    "    \"\"\"\n",
    "    Charge un fichier CSV, ajoute le suffixe \"/edit#identityArea\" à toutes les valeurs de la colonne \"notice 1\",\n",
    "    puis extrait les noms modifiés de la colonne \"notice 1\".\n",
    "\n",
    "    Args:\n",
    "        csv_path (str): Chemin du fichier CSV.\n",
    "    Returns:\n",
    "        list: Liste des URLs renvoyant à l'édition des notices d'autorité, ouverte sur la Zone d'identification.\n",
    "    \"\"\"\n",
    "\n",
    "    # Charger le fichier CSV\n",
    "    df = pd.read_csv(csv_path, delimiter=',') #delimiter dépend de la configuration du separator du csv\n",
    "\n",
    "    # Extraire les noms de la colonne \"url_phoebus\" et ajouter le suffixe \"/edit#identityArea\" à toutes les valeurs de la colonne \"url_phoebus\" \n",
    "    df['url_phoebus'] = df['url_phoebus'].astype(str) + '/edit#identityArea'\n",
    "\n",
    "    # Extraire les noms de la colonne \"notice 1\" modifiée\n",
    "    autorites_url = df['url_phoebus'].tolist()\n",
    "    \n",
    "    return autorites_url\n",
    "\n",
    "# LANCEMENT DE LA FONCTION\n",
    "csv_path = '01_noticesACompleter.csv'\n",
    "autorites_url = open_autorites(csv_path)\n",
    "#print(autorites_url)"
   ]
  },
  {
   "cell_type": "markdown",
   "metadata": {},
   "source": [
    "## ETAPE 4 : OUVRIR LES ZONES ET SAISIR LES INFORMATIONS"
   ]
  },
  {
   "cell_type": "code",
   "execution_count": 5,
   "metadata": {},
   "outputs": [
    {
     "name": "stdout",
     "output_type": "stream",
     "text": [
      "(1) Opération de saisie terminée pour BESSON Benno : https://atom-archives.unil.ch/index.php/besson-benno\n",
      "(2) Opération de saisie terminée pour MANCHETTE Melissa : https://atom-archives.unil.ch/index.php/manchette-melissa\n",
      "(3) Opération de saisie terminée pour MANDEL Ernest : https://atom-archives.unil.ch/index.php/mandel-ernest\n"
     ]
    }
   ],
   "source": [
    "def modify_autorites (driver, autorities, autorites_url):\n",
    "    \"\"\"\n",
    "    Saisit dans les bons champs les informations récupérées dans IdRef. Cela n'implique pas les notices \"renvoi\"\n",
    "\n",
    "    Cette fonction prend un objet 'driver' pour la navigation web automatisée, une liste d'autorités\n",
    "    récupérées depuis IdRef, et une liste d'URLs pour les notices d'autorité. Elle ouvre chaque notice d'autorité\n",
    "    avec le navigateur automatisé, ouvre toutes les Zones, saisit les informations appropriées dans les champs correspondants,\n",
    "    et sauvegarde les modifications.\n",
    "\n",
    "    Args:\n",
    "        driver: Objet pour la navigation web automatisée.\n",
    "        autorities (list): Liste d'autorités récupérées depuis IdRef.\n",
    "        autorites_url (list): Liste d'URLs pour les notices d'autorité.\n",
    "\n",
    "    Returns:\n",
    "        None\n",
    "    Notes :\n",
    "        La fonction inclut les modifications automatiques effectuées par Botorité.\n",
    "        A Notes de maintenance : modifier le numéro de lancement [L0.]\n",
    "    \"\"\"   \n",
    "    try:\n",
    "        \n",
    "        for i, autorite_url in enumerate(autorites_url) :\n",
    "            \n",
    "            driver.go_to(autorite_url)\n",
    "\n",
    "            # Ouvrir toutes les Zones\n",
    "            driver.click('Zone du contrôle')   \n",
    "            driver.execute_script(\"window.scrollTo(0,0);\")\n",
    "            time.sleep(2)\n",
    "            driver.click('Zone de description')\n",
    "            # Récupérer le contenu HTML depuis la page\n",
    "            content = driver.get_page_source()\n",
    "            soup = BeautifulSoup(content, features='lxml')\n",
    "            time.sleep(2)\n",
    "            \n",
    "            ## ZONE IDENTIFICATION\n",
    "            # Modification du type d'entité\n",
    "            driver.click(tag='select', id='entityType')\n",
    "            driver.click('Personne', tag='option')\n",
    "\n",
    "            # saisi des autres formes de nom\n",
    "            other_name_value = autorities[i][7]\n",
    "            if driver.exists(id='otherName_new'):\n",
    "                # Récupérer le contenu HTML de la page\n",
    "                html_content = driver.get_page_source()\n",
    "                # Analyser le HTML avec BeautifulSoup\n",
    "                soup = BeautifulSoup(html_content, 'html.parser')\n",
    "                # Trouver l'élément input avec l'ID otherName_new\n",
    "                input_element = soup.find('input', id='otherName_new')\n",
    "                # Si l'élément input est trouvé, cela signifie que le champ est déjà saisi, donc ne fait rien\n",
    "                if input_element:\n",
    "                    # Vérifier si le champ est vide\n",
    "                    if not input_element.get('value'):\n",
    "                        # Si le champ est vide, saisir la valeur\n",
    "                        driver.type(other_name_value, into='otherName_new')\n",
    "                        time.sleep(1)\n",
    "            else:\n",
    "                print(f\"ERREUR pour {autorities[i][1]} : Autre(s) forme(s) de nom n'a pas été trouvée et saisie\")   \n",
    "                \n",
    "            ## ZONE DESCRIPTION\n",
    "            # saisie des dates d'existence, de l'historique et des fonctions\n",
    "            existence_value = autorities[i][2]\n",
    "            history_value = autorities[i][4]\n",
    "            functions_value = autorities[i][3]\n",
    "            \n",
    "            if driver.exists(id='datesOfExistence'):\n",
    "                 # Si l'élément existe et est visible, alors saisir la valeur\n",
    "                driver.type(existence_value, id='datesOfExistence')\n",
    "            else:\n",
    "                print(f\"ERREUR pour {autorities[i][1]} : Dates d'existence n'ont pas été trouvées et saisies\")\n",
    "                \n",
    "            if driver.exists(id='history'):\n",
    "                driver.type(history_value, id='history')\n",
    "            else:\n",
    "                print(f\"ERREUR pour {autorities[i][1]} : Historique n'a pas été trouvée et saisie\")          \n",
    "            if driver.exists(id='functions'):\n",
    "                \n",
    "                driver.type(functions_value, id='functions')\n",
    "            else:\n",
    "                print(f\"ERREUR pour {autorities[i][1]} : Fonctions et activités n'ont pas été trouvées et saisies\") \n",
    "                        \n",
    "            time.sleep(1)\n",
    "            \n",
    "            ## ZONE DE CONTROLE\n",
    "\n",
    "            # saisie de l'identifiant basé sur celui d'idRef\n",
    "            if driver.exists(id='descriptionIdentifier'):\n",
    "                driver.type(autorities[i][8], id='descriptionIdentifier')\n",
    "            else:\n",
    "                print(f\"ERREUR pour {autorities[i][1]} : Identifiant de la description n'a pas été trouvée et saisie\")\n",
    "            \n",
    "            # Modification de l'entretien du dépôt\n",
    "            if driver.exists(id='maintainingRepository'):\n",
    "                driver.type('Centre des littératures en Suisse romande', id='maintainingRepository')\n",
    "                time.sleep(4)\n",
    "                driver.press(driver.Key.ENTER)\n",
    "            else:\n",
    "                print(f\"ERREUR pour {autorities[i][1]} : Entretien du dépôt de la description n'a pas été trouvé et saisi\")\n",
    "            \n",
    "            \n",
    "            # Modification du statut\n",
    "            driver.click(tag='select', id='descriptionStatus')\n",
    "            driver.click('Final', tag='option')\n",
    "            \n",
    "            # saisie de l'historique de révision et de la référence\n",
    "            \n",
    "            if driver.exists(id='revisionHistory'):\n",
    "                driver.type(autorities[i][5], id='revisionHistory')\n",
    "            else:\n",
    "                print(f\"ERREUR pour {autorities[i][1]} : Dates de production et de révision n'ont pas été trouvées et saisies\")\n",
    "            \n",
    "            if driver.exists(id='sources'):\n",
    "                driver.type(autorities[i][6], id='sources')\n",
    "            else:\n",
    "                print(f\"ERREUR pour {autorities[i][1]} : Sources n'ont pas été trouvées et saisies\")\n",
    "            \n",
    "            # Notes de maintenance            \n",
    "            today_date = datetime.today().strftime('%Y-%m-%d à %H:%M:%S')\n",
    "            maintenance_text = f\"\"\"Saisie automatique [LaTempDemo] effectuée le : \"\"\" + today_date\n",
    "            if driver.exists(id='maintenanceNotes'):\n",
    "                driver.type(maintenance_text, id='maintenanceNotes')\n",
    "            else:\n",
    "                print(f\"ERREUR pour {autorities[i][1]} : Notes de maintenance n'ont pas été trouvées et saisies\")\n",
    "      \n",
    "            \n",
    "            # scroller vers le bas puis, sauvegarder la saisie\n",
    "            driver.execute_script(\"window.scrollTo(0,document.body.scrollHeight)\")\n",
    "            time.sleep(2)\n",
    "\n",
    "            driver.click('Sauvegarder', tag='input')\n",
    "            \n",
    "            print(f\"({i+1}) Opération de saisie terminée pour {autorities[i][1]} : {autorities[i][0]}\")\n",
    "        \n",
    "    except Exception as e:\n",
    "        print(f\"Etape 9 : Erreur lors de la modification des notices d'autorité : {e}\")\n",
    "        \n",
    "# LANCEMENT DE LA FONCTION        \n",
    "modify_autorites(driver, autorities, autorites_url)\n"
   ]
  },
  {
   "cell_type": "markdown",
   "metadata": {},
   "source": [
    "## LANCEMENT DES FONCTIONS"
   ]
  },
  {
   "cell_type": "code",
   "execution_count": 6,
   "metadata": {},
   "outputs": [
    {
     "name": "stdout",
     "output_type": "stream",
     "text": [
      "Etape 9 : Erreur lors de la modification des notices d'autorité : Message: no such window: target window already closed\n",
      "from unknown error: web view not found\n",
      "  (Session info: chrome=129.0.6668.91)\n",
      "  (Driver info: chromedriver=2.39.562713 (dd642283e958a93ebf6891600db055f1f1b4f3b2),platform=Mac OS X 10.16.0 x86_64)\n",
      "\n"
     ]
    }
   ],
   "source": [
    "# ETAPE 1\n",
    "driver = Browser()\n",
    "access_atom(driver)\n",
    "\n",
    "# ETAPE 2\n",
    "csv_path = '01_noticesACompleter.csv'\n",
    "autorities = extract_autorite(csv_path)\n",
    "\n",
    "# ETAPE 3\n",
    "csv_path = '01_noticesACompleter.csv'\n",
    "autorites_url = open_autorites(csv_path)\n",
    "\n",
    "# ETAPE 4\n",
    "modify_autorites(driver, autorities, autorites_url)"
   ]
  },
  {
   "cell_type": "code",
   "execution_count": null,
   "metadata": {},
   "outputs": [],
   "source": []
  },
  {
   "cell_type": "code",
   "execution_count": null,
   "metadata": {},
   "outputs": [],
   "source": []
  },
  {
   "cell_type": "markdown",
   "metadata": {},
   "source": []
  },
  {
   "cell_type": "code",
   "execution_count": null,
   "metadata": {},
   "outputs": [],
   "source": []
  },
  {
   "cell_type": "markdown",
   "metadata": {},
   "source": []
  },
  {
   "cell_type": "markdown",
   "metadata": {},
   "source": []
  },
  {
   "cell_type": "code",
   "execution_count": null,
   "metadata": {},
   "outputs": [],
   "source": []
  },
  {
   "cell_type": "markdown",
   "metadata": {},
   "source": []
  },
  {
   "cell_type": "code",
   "execution_count": null,
   "metadata": {},
   "outputs": [],
   "source": []
  },
  {
   "cell_type": "markdown",
   "metadata": {},
   "source": []
  },
  {
   "cell_type": "code",
   "execution_count": null,
   "metadata": {},
   "outputs": [],
   "source": []
  },
  {
   "cell_type": "markdown",
   "metadata": {},
   "source": []
  },
  {
   "cell_type": "code",
   "execution_count": null,
   "metadata": {},
   "outputs": [],
   "source": []
  },
  {
   "cell_type": "markdown",
   "metadata": {},
   "source": []
  },
  {
   "cell_type": "code",
   "execution_count": null,
   "metadata": {},
   "outputs": [],
   "source": []
  },
  {
   "cell_type": "code",
   "execution_count": null,
   "metadata": {},
   "outputs": [],
   "source": []
  },
  {
   "cell_type": "code",
   "execution_count": null,
   "metadata": {},
   "outputs": [],
   "source": []
  },
  {
   "cell_type": "code",
   "execution_count": null,
   "metadata": {},
   "outputs": [],
   "source": []
  }
 ],
 "metadata": {
  "kernelspec": {
   "display_name": "python3_env",
   "language": "python",
   "name": "python3"
  },
  "language_info": {
   "codemirror_mode": {
    "name": "ipython",
    "version": 3
   },
   "file_extension": ".py",
   "mimetype": "text/x-python",
   "name": "python",
   "nbconvert_exporter": "python",
   "pygments_lexer": "ipython3",
   "version": "3.8.5"
  }
 },
 "nbformat": 4,
 "nbformat_minor": 4
}
